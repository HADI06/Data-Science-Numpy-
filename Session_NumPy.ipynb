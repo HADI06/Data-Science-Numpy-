{
  "cells": [
    {
      "cell_type": "markdown",
      "id": "2c37fe8a",
      "metadata": {
        "id": "2c37fe8a"
      },
      "source": [
        "##### Numpy: Numeric computing library\n",
        "\n",
        "NumPy (Numerical Python) is one of the core packages for performing complex mathematical operations. Pandas, Matplotlib, Statmodels and many other Scientific libraries rely on NumPy.\n",
        "\n",
        "1. Initializing the NumPy arrays\n",
        "2. Accessing elements\n",
        "3. Array types\n",
        "4. Array Dimensions and Shapes\n",
        "5. Indexing and Slicing of Matrices\n",
        "6. Statistics functions\n",
        "7. Broadcasting and Vectorized operations\n",
        "8. Useful Numpy functions"
      ]
    },
    {
      "cell_type": "code",
      "execution_count": null,
      "id": "e4c7def0",
      "metadata": {
        "id": "e4c7def0",
        "outputId": "b13bcff8-b7ad-41b0-e0c7-f19b561b4b22"
      },
      "outputs": [
        {
          "name": "stdout",
          "output_type": "stream",
          "text": [
            "Requirement already satisfied: numpy in c:\\users\\laptop\\anaconda3\\lib\\site-packages (1.23.5)\n"
          ]
        }
      ],
      "source": [
        "! pip install numpy"
      ]
    },
    {
      "cell_type": "code",
      "execution_count": null,
      "id": "34c223a0",
      "metadata": {
        "id": "34c223a0"
      },
      "outputs": [],
      "source": [
        "import sys\n",
        "import numpy as np"
      ]
    },
    {
      "cell_type": "markdown",
      "id": "26cbd6a8",
      "metadata": {
        "id": "26cbd6a8"
      },
      "source": [
        "The sys module in Python provides various functions and variables that are used to manipulate different parts of the Python runtime environment. It allows operating on the interpreter as it provides access to the variables and functions that interact strongly with the interpreter."
      ]
    },
    {
      "cell_type": "code",
      "execution_count": null,
      "id": "8d33679b",
      "metadata": {
        "id": "8d33679b",
        "outputId": "1272d35c-e636-45eb-ca47-6f4244602495"
      },
      "outputs": [
        {
          "data": {
            "text/plain": [
              "array([1, 2, 3, 4])"
            ]
          },
          "execution_count": 2,
          "metadata": {},
          "output_type": "execute_result"
        }
      ],
      "source": [
        "# Basic Numpy Arrays\n",
        "np.array([1, 2, 3, 4])"
      ]
    },
    {
      "cell_type": "code",
      "execution_count": null,
      "id": "7854f588",
      "metadata": {
        "id": "7854f588",
        "outputId": "d10c6b1a-7ec9-4410-83f8-ce0de172efe5"
      },
      "outputs": [
        {
          "data": {
            "text/plain": [
              "array([ 1,  2,  3,  4,  5,  6,  7,  8,  9, 10])"
            ]
          },
          "execution_count": 84,
          "metadata": {},
          "output_type": "execute_result"
        }
      ],
      "source": [
        "a = np.array([1, 2, 3, 4, 5, 6, 7, 8, 9, 10])\n",
        "a"
      ]
    },
    {
      "cell_type": "code",
      "execution_count": null,
      "id": "6890c78c",
      "metadata": {
        "id": "6890c78c",
        "outputId": "baea21c5-e114-4432-cfb3-e2cb52ffc97c"
      },
      "outputs": [
        {
          "data": {
            "text/plain": [
              "(1, 2)"
            ]
          },
          "execution_count": 4,
          "metadata": {},
          "output_type": "execute_result"
        }
      ],
      "source": [
        "# access the individual elements of array a\n",
        "a[0], a[1]"
      ]
    },
    {
      "cell_type": "code",
      "execution_count": null,
      "id": "60a22263",
      "metadata": {
        "id": "60a22263",
        "outputId": "2a9b4297-d61d-4b1c-a3a4-fbf7566b3a5b"
      },
      "outputs": [
        {
          "data": {
            "text/plain": [
              "array([ 3,  4,  5,  6,  7,  8,  9, 10])"
            ]
          },
          "execution_count": 85,
          "metadata": {},
          "output_type": "execute_result"
        }
      ],
      "source": [
        "#access all elements\n",
        "a[2:]"
      ]
    },
    {
      "cell_type": "code",
      "execution_count": null,
      "id": "12fe1100",
      "metadata": {
        "id": "12fe1100",
        "outputId": "b92049d2-744a-426b-a9b2-0fdb4edfca22"
      },
      "outputs": [
        {
          "data": {
            "text/plain": [
              "array([1, 2, 3, 4, 5, 6, 7, 8, 9])"
            ]
          },
          "execution_count": 86,
          "metadata": {},
          "output_type": "execute_result"
        }
      ],
      "source": [
        "a[:9]"
      ]
    },
    {
      "cell_type": "code",
      "execution_count": null,
      "id": "f4aa29b9",
      "metadata": {
        "id": "f4aa29b9",
        "outputId": "aaaad0e5-803f-46d2-d91f-dd21f26acdab"
      },
      "outputs": [
        {
          "data": {
            "text/plain": [
              "array([2, 3, 4, 5, 6])"
            ]
          },
          "execution_count": 6,
          "metadata": {},
          "output_type": "execute_result"
        }
      ],
      "source": [
        "#access from 2nd till 5th element\n",
        "a[1:6]"
      ]
    },
    {
      "cell_type": "code",
      "execution_count": null,
      "id": "707e258f",
      "metadata": {
        "id": "707e258f",
        "outputId": "c9cbfda6-8e8b-4121-e751-daa5ff848820"
      },
      "outputs": [
        {
          "data": {
            "text/plain": [
              "array([2, 3, 4, 5, 6, 7, 8, 9])"
            ]
          },
          "execution_count": 7,
          "metadata": {},
          "output_type": "execute_result"
        }
      ],
      "source": [
        "#negative indexing can be used to access elements from the end\n",
        "\n",
        "a[1:-1]"
      ]
    },
    {
      "cell_type": "code",
      "execution_count": null,
      "id": "eb95aee2",
      "metadata": {
        "id": "eb95aee2",
        "outputId": "1aa234c3-30a4-413f-d959-2053b9b0cb74"
      },
      "outputs": [
        {
          "data": {
            "text/plain": [
              "array([1, 3, 5, 7, 9])"
            ]
          },
          "execution_count": 92,
          "metadata": {},
          "output_type": "execute_result"
        }
      ],
      "source": [
        "#array([1,2, 3,  4,  5,  6,  7,  8,  9, 10])\n",
        "# access the elements step wise [start-index:end-index:step]\n",
        "\n",
        "a[0:9:2]"
      ]
    },
    {
      "cell_type": "code",
      "execution_count": null,
      "id": "fcc20981",
      "metadata": {
        "id": "fcc20981",
        "outputId": "23fc4d8c-8ffb-417c-9a0e-63d7b233d7b9"
      },
      "outputs": [
        {
          "data": {
            "text/plain": [
              "dtype('int32')"
            ]
          },
          "execution_count": 9,
          "metadata": {},
          "output_type": "execute_result"
        }
      ],
      "source": [
        "# Array Types\n",
        "\n",
        "a.dtype"
      ]
    },
    {
      "cell_type": "code",
      "execution_count": null,
      "id": "69dbb248",
      "metadata": {
        "id": "69dbb248",
        "outputId": "4ac28df1-0ae3-4e40-c4c4-b93518a0e6ed"
      },
      "outputs": [
        {
          "data": {
            "text/plain": [
              "dtype('float64')"
            ]
          },
          "execution_count": 10,
          "metadata": {},
          "output_type": "execute_result"
        }
      ],
      "source": [
        "b = np.array([0, .5, 1, 1.5, 2])\n",
        "# 0.0 .0 1.0 1.5 2.0\n",
        "b.dtype"
      ]
    },
    {
      "cell_type": "code",
      "execution_count": null,
      "id": "9477d701",
      "metadata": {
        "id": "9477d701",
        "outputId": "3564b604-aaef-43fd-d43e-873e0dcb1944"
      },
      "outputs": [
        {
          "data": {
            "text/plain": [
              "array([1., 2., 3., 4.])"
            ]
          },
          "execution_count": 11,
          "metadata": {},
          "output_type": "execute_result"
        }
      ],
      "source": [
        "#change data type\n",
        "\n",
        "np.array([1, 2, 3, 4], dtype=float)"
      ]
    },
    {
      "cell_type": "code",
      "execution_count": null,
      "id": "f38f95d5",
      "metadata": {
        "id": "f38f95d5",
        "outputId": "ab97514f-069a-4883-d2f8-0abcda93f5c1"
      },
      "outputs": [
        {
          "data": {
            "text/plain": [
              "array([[1, 2, 5],\n",
              "       [4, 5, 6]])"
            ]
          },
          "execution_count": 95,
          "metadata": {},
          "output_type": "execute_result"
        }
      ],
      "source": [
        "# Array Dimensions and shapes\n",
        "\n",
        "A = np.array([\n",
        "    [1, 2,5 ],\n",
        "    [4, 5, 6]\n",
        "])\n",
        "A"
      ]
    },
    {
      "cell_type": "markdown",
      "id": "6125dfcb",
      "metadata": {
        "id": "6125dfcb"
      },
      "source": [
        " Name ID addres\n",
        "1.mahn 87 hu\n",
        "2.sara 78 usjx\n"
      ]
    },
    {
      "cell_type": "code",
      "execution_count": null,
      "id": "074dbb97",
      "metadata": {
        "id": "074dbb97",
        "outputId": "7e1e76f3-e262-4852-8f05-b4230d6c38fa"
      },
      "outputs": [
        {
          "data": {
            "text/plain": [
              "(2, 3)"
            ]
          },
          "execution_count": 13,
          "metadata": {},
          "output_type": "execute_result"
        }
      ],
      "source": [
        "# A is an array having 2 rows and 3 columns\n",
        "A.shape #R x C"
      ]
    },
    {
      "cell_type": "code",
      "execution_count": null,
      "id": "abd3e5a3",
      "metadata": {
        "id": "abd3e5a3",
        "outputId": "34738301-8ada-4d42-fe1d-fd1997912978"
      },
      "outputs": [
        {
          "data": {
            "text/plain": [
              "2"
            ]
          },
          "execution_count": 14,
          "metadata": {},
          "output_type": "execute_result"
        }
      ],
      "source": [
        "#check the dimensions of array A\n",
        "\n",
        "A.ndim"
      ]
    },
    {
      "cell_type": "code",
      "execution_count": null,
      "id": "ec7aa7a3",
      "metadata": {
        "id": "ec7aa7a3",
        "outputId": "996f1cb9-abe4-4cf7-98e2-62d7daff53e0"
      },
      "outputs": [
        {
          "data": {
            "text/plain": [
              "6"
            ]
          },
          "execution_count": 15,
          "metadata": {},
          "output_type": "execute_result"
        }
      ],
      "source": [
        "#Check the no. of elements in array A\n",
        "A.size"
      ]
    },
    {
      "cell_type": "code",
      "execution_count": null,
      "id": "4d08f45b",
      "metadata": {
        "id": "4d08f45b"
      },
      "outputs": [],
      "source": [
        "B = np.array([\n",
        "    [\n",
        "        [12, 11, 10],\n",
        "        [9, 8, 7],\n",
        "    ],\n",
        "    [\n",
        "        [6, 5, 4],\n",
        "        [3, 2, 1]\n",
        "    ]\n",
        "])"
      ]
    },
    {
      "cell_type": "code",
      "execution_count": null,
      "id": "3b44b237",
      "metadata": {
        "id": "3b44b237",
        "outputId": "e87dff28-1c14-4fea-fedf-f022b896dbc4"
      },
      "outputs": [
        {
          "data": {
            "text/plain": [
              "(2, 2, 3)"
            ]
          },
          "execution_count": 17,
          "metadata": {},
          "output_type": "execute_result"
        }
      ],
      "source": [
        "B.shape"
      ]
    },
    {
      "cell_type": "code",
      "execution_count": null,
      "id": "5797c81e",
      "metadata": {
        "id": "5797c81e",
        "outputId": "b71d3fa5-5f4b-4dad-9943-5ba9563c6904"
      },
      "outputs": [
        {
          "data": {
            "text/plain": [
              "3"
            ]
          },
          "execution_count": 18,
          "metadata": {},
          "output_type": "execute_result"
        }
      ],
      "source": [
        "B.ndim"
      ]
    },
    {
      "cell_type": "code",
      "execution_count": null,
      "id": "c7de97c9",
      "metadata": {
        "id": "c7de97c9",
        "outputId": "eb2a8b36-8dc7-4926-9850-be7b9d9c9d43"
      },
      "outputs": [
        {
          "data": {
            "text/plain": [
              "12"
            ]
          },
          "execution_count": 19,
          "metadata": {},
          "output_type": "execute_result"
        }
      ],
      "source": [
        "B.size"
      ]
    },
    {
      "cell_type": "code",
      "execution_count": null,
      "id": "540333dd",
      "metadata": {
        "id": "540333dd",
        "outputId": "d6a59a9a-01b8-4f0a-9c1f-9a8a32e67944"
      },
      "outputs": [
        {
          "name": "stderr",
          "output_type": "stream",
          "text": [
            "C:\\Users\\Laptop\\AppData\\Local\\Temp\\ipykernel_8412\\3613905410.py:3: VisibleDeprecationWarning: Creating an ndarray from ragged nested sequences (which is a list-or-tuple of lists-or-tuples-or ndarrays with different lengths or shapes) is deprecated. If you meant to do this, you must specify 'dtype=object' when creating the ndarray.\n",
            "  C = np.array([\n"
          ]
        }
      ],
      "source": [
        "#If the shape isn't consistent, it'll just fall back to regular Python objects:\n",
        "\n",
        "C = np.array([\n",
        "    [\n",
        "        [12, 11, 10],\n",
        "        [9, 8, 7],\n",
        "    ],\n",
        "    [\n",
        "        [6, 5, 4]\n",
        "    ]\n",
        "])"
      ]
    },
    {
      "cell_type": "code",
      "execution_count": null,
      "id": "db01acb1",
      "metadata": {
        "id": "db01acb1",
        "outputId": "cf5e0fc5-0208-4f0a-d67d-4992cc3ca977"
      },
      "outputs": [
        {
          "data": {
            "text/plain": [
              "dtype('O')"
            ]
          },
          "execution_count": 21,
          "metadata": {},
          "output_type": "execute_result"
        }
      ],
      "source": [
        "C.dtype"
      ]
    },
    {
      "cell_type": "code",
      "execution_count": null,
      "id": "dd1232b6",
      "metadata": {
        "id": "dd1232b6"
      },
      "outputs": [],
      "source": [
        "# Indexing and Slicing of Matrices\n",
        "\n",
        "# Square matrix\n",
        "A = np.array([\n",
        "#.   0. 1. 2\n",
        "    [1, 2, 3], # 0\n",
        "    [4, 5, 6], # 1\n",
        "    [7, 8, 9]  # 2\n",
        "])"
      ]
    },
    {
      "cell_type": "code",
      "execution_count": null,
      "id": "8aea6408",
      "metadata": {
        "id": "8aea6408",
        "outputId": "9194df37-d4b5-4690-857a-7ff7c25253bf"
      },
      "outputs": [
        {
          "data": {
            "text/plain": [
              "array([4, 5, 6])"
            ]
          },
          "execution_count": 23,
          "metadata": {},
          "output_type": "execute_result"
        }
      ],
      "source": [
        "#accessing row 2\n",
        "\n",
        "A[1]"
      ]
    },
    {
      "cell_type": "code",
      "execution_count": null,
      "id": "93b7d031",
      "metadata": {
        "id": "93b7d031",
        "outputId": "567ca3ca-c22e-49c6-eba9-e459331ce5a9"
      },
      "outputs": [
        {
          "data": {
            "text/plain": [
              "4"
            ]
          },
          "execution_count": 24,
          "metadata": {},
          "output_type": "execute_result"
        }
      ],
      "source": [
        "#accessing elements from row 2\n",
        "A[1][0]"
      ]
    },
    {
      "cell_type": "code",
      "execution_count": null,
      "id": "1cb3fdf6",
      "metadata": {
        "id": "1cb3fdf6",
        "outputId": "5890ca87-3b2c-42be-b312-6bcbc32b4116"
      },
      "outputs": [
        {
          "data": {
            "text/plain": [
              "5"
            ]
          },
          "execution_count": 96,
          "metadata": {},
          "output_type": "execute_result"
        }
      ],
      "source": [
        "# [row, col]\n",
        "#[ ,]\n",
        "A[1, 1]"
      ]
    },
    {
      "cell_type": "code",
      "execution_count": null,
      "id": "507e72c5",
      "metadata": {
        "id": "507e72c5",
        "outputId": "739938e5-373f-4361-c909-38325396adf8"
      },
      "outputs": [
        {
          "data": {
            "text/plain": [
              "array([[1, 2, 3],\n",
              "       [4, 5, 6],\n",
              "       [7, 8, 9]])"
            ]
          },
          "execution_count": 97,
          "metadata": {},
          "output_type": "execute_result"
        }
      ],
      "source": [
        "A = np.array([\n",
        "#.   0. 1. 2\n",
        "    [1, 2, 3], # 0\n",
        "    [4, 5, 6], # 1\n",
        "    [7, 8, 9]  # 2\n",
        "])\n",
        "A"
      ]
    },
    {
      "cell_type": "code",
      "execution_count": null,
      "id": "85053755",
      "metadata": {
        "id": "85053755",
        "outputId": "378a0eb2-32d4-48a3-9079-c9a807fee749"
      },
      "outputs": [
        {
          "data": {
            "text/plain": [
              "array([[1, 2, 3],\n",
              "       [4, 5, 6]])"
            ]
          },
          "execution_count": 26,
          "metadata": {},
          "output_type": "execute_result"
        }
      ],
      "source": [
        "# accessing rows from 0-2, where 2 is not included\n",
        "#A[0:2]\n",
        "A[0:2]"
      ]
    },
    {
      "cell_type": "code",
      "execution_count": null,
      "id": "b42c15b5",
      "metadata": {
        "id": "b42c15b5",
        "outputId": "3addb422-46b5-4e71-e6c3-f9844e4d3b92"
      },
      "outputs": [
        {
          "data": {
            "text/plain": [
              "array([[1, 2, 3],\n",
              "       [4, 5, 6],\n",
              "       [7, 8, 9]])"
            ]
          },
          "execution_count": 98,
          "metadata": {},
          "output_type": "execute_result"
        }
      ],
      "source": [
        "A = np.array([\n",
        "#.   0. 1. 2\n",
        "    [1, 2, 3], # 0\n",
        "    [4, 5, 6], # 1\n",
        "    [7, 8, 9]  # 2\n",
        "])\n",
        "A"
      ]
    },
    {
      "cell_type": "code",
      "execution_count": null,
      "id": "e4bbbdae",
      "metadata": {
        "id": "e4bbbdae",
        "outputId": "d23e049c-992b-41cf-e356-7098470c1362"
      },
      "outputs": [
        {
          "data": {
            "text/plain": [
              "array([[1, 2],\n",
              "       [4, 5],\n",
              "       [7, 8]])"
            ]
          },
          "execution_count": 27,
          "metadata": {},
          "output_type": "execute_result"
        }
      ],
      "source": [
        "# [row start:end, col start:end]\n",
        "#all rows but oth and 1st indexed columns\n",
        "A[:, 0:2]"
      ]
    },
    {
      "cell_type": "code",
      "execution_count": null,
      "id": "9bc071de",
      "metadata": {
        "id": "9bc071de",
        "outputId": "565fac68-45e4-47e1-d3c9-543c53613fcd"
      },
      "outputs": [
        {
          "data": {
            "text/plain": [
              "array([[5, 6],\n",
              "       [8, 9]])"
            ]
          },
          "execution_count": 100,
          "metadata": {},
          "output_type": "execute_result"
        }
      ],
      "source": [
        "#1st and 2nd index row, 1st and 2nd column index\n",
        "A[1:3, 1:3]"
      ]
    },
    {
      "cell_type": "code",
      "execution_count": null,
      "id": "fba0f97d",
      "metadata": {
        "id": "fba0f97d",
        "outputId": "67711f68-5c3f-485a-a648-055469ae65f0"
      },
      "outputs": [
        {
          "data": {
            "text/plain": [
              "array([[1, 2, 3],\n",
              "       [4, 5, 6],\n",
              "       [7, 8, 9]])"
            ]
          },
          "execution_count": 101,
          "metadata": {},
          "output_type": "execute_result"
        }
      ],
      "source": [
        "A"
      ]
    },
    {
      "cell_type": "code",
      "execution_count": null,
      "id": "faf0bc0c",
      "metadata": {
        "id": "faf0bc0c",
        "outputId": "0efaa325-c24d-4794-d8a5-9bd981c5137a"
      },
      "outputs": [
        {
          "data": {
            "text/plain": [
              "array([[1, 2],\n",
              "       [4, 5]])"
            ]
          },
          "execution_count": 28,
          "metadata": {},
          "output_type": "execute_result"
        }
      ],
      "source": [
        "# accessing only first 2 rows and 2 col\n",
        "\n",
        "A[:2, :2]"
      ]
    },
    {
      "cell_type": "code",
      "execution_count": null,
      "id": "a4643efc",
      "metadata": {
        "id": "a4643efc",
        "outputId": "490278fd-3d39-4504-aa13-d1fc7440a8a5"
      },
      "outputs": [
        {
          "data": {
            "text/plain": [
              "array([[3],\n",
              "       [6]])"
            ]
          },
          "execution_count": 29,
          "metadata": {},
          "output_type": "execute_result"
        }
      ],
      "source": [
        "#accessing last columns of first 2 rows\n",
        "\n",
        "A[:2, 2:]"
      ]
    },
    {
      "cell_type": "code",
      "execution_count": null,
      "id": "4bb806db",
      "metadata": {
        "id": "4bb806db",
        "outputId": "3e101ce9-d1e5-491e-e12e-236361770ac2"
      },
      "outputs": [
        {
          "data": {
            "text/plain": [
              "array([[1, 2, 3],\n",
              "       [4, 5, 6],\n",
              "       [7, 8, 9]])"
            ]
          },
          "execution_count": 30,
          "metadata": {},
          "output_type": "execute_result"
        }
      ],
      "source": [
        "A"
      ]
    },
    {
      "cell_type": "code",
      "execution_count": null,
      "id": "4243042d",
      "metadata": {
        "id": "4243042d"
      },
      "outputs": [],
      "source": [
        "#updating values at position A[1]\n",
        "\n",
        "A[1] = np.array([10, 29, 10])"
      ]
    },
    {
      "cell_type": "code",
      "execution_count": null,
      "id": "a780d1ef",
      "metadata": {
        "id": "a780d1ef",
        "outputId": "2c13ef7a-8274-4a72-b928-bf57bef66078"
      },
      "outputs": [
        {
          "data": {
            "text/plain": [
              "array([[ 1,  2,  3],\n",
              "       [10, 29, 10],\n",
              "       [ 7,  8,  9]])"
            ]
          },
          "execution_count": 103,
          "metadata": {},
          "output_type": "execute_result"
        }
      ],
      "source": [
        "A"
      ]
    },
    {
      "cell_type": "code",
      "execution_count": null,
      "id": "b0b47370",
      "metadata": {
        "id": "b0b47370"
      },
      "outputs": [],
      "source": [
        "# update the entire row with a scalar value.\n",
        "\n",
        "A[2] = 99"
      ]
    },
    {
      "cell_type": "code",
      "execution_count": null,
      "id": "39c38c18",
      "metadata": {
        "id": "39c38c18"
      },
      "outputs": [],
      "source": []
    },
    {
      "cell_type": "code",
      "execution_count": null,
      "id": "a160fe2a",
      "metadata": {
        "id": "a160fe2a",
        "outputId": "59e69ff4-ac01-4d76-8d25-7629af4d0737"
      },
      "outputs": [
        {
          "data": {
            "text/plain": [
              "array([[ 1,  2,  3],\n",
              "       [10, 29, 10],\n",
              "       [99, 99, 99]])"
            ]
          },
          "execution_count": 105,
          "metadata": {},
          "output_type": "execute_result"
        }
      ],
      "source": [
        "A"
      ]
    },
    {
      "cell_type": "code",
      "execution_count": null,
      "id": "3a9b35f0",
      "metadata": {
        "id": "3a9b35f0",
        "outputId": "18259d90-9928-44ef-dfe5-4d93ff25edea"
      },
      "outputs": [
        {
          "data": {
            "text/plain": [
              "array([[ 1,  2,  3],\n",
              "       [10, 29, 10],\n",
              "       [89, 99, 99]])"
            ]
          },
          "execution_count": 106,
          "metadata": {},
          "output_type": "execute_result"
        }
      ],
      "source": [
        "A[2,0] = 89\n",
        "A"
      ]
    },
    {
      "cell_type": "code",
      "execution_count": null,
      "id": "2dcb73e2",
      "metadata": {
        "id": "2dcb73e2"
      },
      "outputs": [],
      "source": [
        "# Statistics Functions\n",
        "\n",
        "a = np.array([1, 2, 3, 4])"
      ]
    },
    {
      "cell_type": "code",
      "execution_count": null,
      "id": "cd678851",
      "metadata": {
        "id": "cd678851",
        "outputId": "4df1f7b4-0fb8-4a93-9cf9-4344aed3f98c"
      },
      "outputs": [
        {
          "data": {
            "text/plain": [
              "10"
            ]
          },
          "execution_count": 36,
          "metadata": {},
          "output_type": "execute_result"
        }
      ],
      "source": [
        "# add up all values of an array\n",
        "a.sum()"
      ]
    },
    {
      "cell_type": "code",
      "execution_count": null,
      "id": "c6098947",
      "metadata": {
        "id": "c6098947",
        "outputId": "63ade75c-3142-45fe-d0b7-14d95447f3bb"
      },
      "outputs": [
        {
          "data": {
            "text/plain": [
              "2.5"
            ]
          },
          "execution_count": 37,
          "metadata": {},
          "output_type": "execute_result"
        }
      ],
      "source": [
        "#calculate mean\n",
        "a.mean()"
      ]
    },
    {
      "cell_type": "code",
      "execution_count": null,
      "id": "bae88aaa",
      "metadata": {
        "id": "bae88aaa",
        "outputId": "d0a9b130-ca55-4d33-ff5e-7ed9dde877ed"
      },
      "outputs": [
        {
          "data": {
            "text/plain": [
              "1.118033988749895"
            ]
          },
          "execution_count": 38,
          "metadata": {},
          "output_type": "execute_result"
        }
      ],
      "source": [
        "#calculate standard deviation\n",
        "a.std()"
      ]
    },
    {
      "cell_type": "code",
      "execution_count": null,
      "id": "723b8087",
      "metadata": {
        "id": "723b8087",
        "outputId": "65db9cda-6805-4ae9-c3c1-0a6338c5288e"
      },
      "outputs": [
        {
          "data": {
            "text/plain": [
              "1.25"
            ]
          },
          "execution_count": 39,
          "metadata": {},
          "output_type": "execute_result"
        }
      ],
      "source": [
        "#calculate variance\n",
        "a.var()"
      ]
    },
    {
      "cell_type": "code",
      "execution_count": null,
      "id": "05fbd7f0",
      "metadata": {
        "id": "05fbd7f0",
        "outputId": "3837ebe0-62de-4a81-e02e-7a34955dc547"
      },
      "outputs": [
        {
          "data": {
            "text/plain": [
              "45"
            ]
          },
          "execution_count": 40,
          "metadata": {},
          "output_type": "execute_result"
        }
      ],
      "source": [
        "#Example\n",
        "# s1\n",
        "#s2\n",
        "#s3\n",
        "A = np.array([\n",
        "    [1, 2, 3],\n",
        "    [4, 5, 6],\n",
        "    [7, 8, 9]\n",
        "])\n",
        "\n",
        "\n",
        "\n",
        "A.sum()"
      ]
    },
    {
      "cell_type": "code",
      "execution_count": null,
      "id": "439d157b",
      "metadata": {
        "id": "439d157b",
        "outputId": "9a46164b-1349-47c3-b0c4-40cf0d97591d"
      },
      "outputs": [
        {
          "data": {
            "text/plain": [
              "5.0"
            ]
          },
          "execution_count": 41,
          "metadata": {},
          "output_type": "execute_result"
        }
      ],
      "source": [
        "A.mean()"
      ]
    },
    {
      "cell_type": "code",
      "execution_count": null,
      "id": "4fccbb1f",
      "metadata": {
        "id": "4fccbb1f",
        "outputId": "c029bb56-7722-4fe9-cba0-f73a233916a5"
      },
      "outputs": [
        {
          "data": {
            "text/plain": [
              "array([100, 130, 112])"
            ]
          },
          "execution_count": 110,
          "metadata": {},
          "output_type": "execute_result"
        }
      ],
      "source": [
        "#col wise addition\n",
        "\n",
        "A.sum(axis=0)"
      ]
    },
    {
      "cell_type": "code",
      "execution_count": null,
      "id": "230a33de",
      "metadata": {
        "id": "230a33de",
        "outputId": "e9996967-3bc8-4fef-f58e-dfe7d4ab8bec"
      },
      "outputs": [
        {
          "data": {
            "text/plain": [
              "array([ 6, 15, 24])"
            ]
          },
          "execution_count": 43,
          "metadata": {},
          "output_type": "execute_result"
        }
      ],
      "source": [
        "#row wise addition\n",
        "\n",
        "A.sum(axis=1)"
      ]
    },
    {
      "cell_type": "code",
      "execution_count": null,
      "id": "05f1fa97",
      "metadata": {
        "id": "05f1fa97",
        "outputId": "278ecc56-35fd-4ae7-d8ef-a8f6e099805f"
      },
      "outputs": [
        {
          "data": {
            "text/plain": [
              "array([4., 5., 6.])"
            ]
          },
          "execution_count": 44,
          "metadata": {},
          "output_type": "execute_result"
        }
      ],
      "source": [
        "#col wise mean\n",
        "\n",
        "A.mean(axis=0)\n",
        "\n",
        "# Mean of the first column [1, 4, 7] is (1 + 4 + 7) / 3 = 4.0.\n",
        "# Mean of the second column [2, 5, 8] is (2 + 5 + 8) / 3 = 5.0.\n",
        "# Mean of the third column [3, 6, 9] is (3 + 6 + 9) / 3 = 6.0."
      ]
    },
    {
      "cell_type": "code",
      "execution_count": null,
      "id": "1e718289",
      "metadata": {
        "id": "1e718289",
        "outputId": "81f89102-d2e5-468c-cb2e-bb686cb200e4"
      },
      "outputs": [
        {
          "data": {
            "text/plain": [
              "array([2., 5., 8.])"
            ]
          },
          "execution_count": 45,
          "metadata": {},
          "output_type": "execute_result"
        }
      ],
      "source": [
        "#row wise mean\n",
        "\n",
        "A.mean(axis=1)\n",
        "\n",
        "# Mean of the first row [1, 2, 3] is (1 + 2 + 3) / 3 = 2.0.\n",
        "# Mean of the second row [4, 5, 6] is (4 + 5 + 6) / 3 = 5.0.\n",
        "# Mean of the third row [7, 8, 9] is (7 + 8 + 9) / 3 = 8.0."
      ]
    },
    {
      "cell_type": "code",
      "execution_count": null,
      "id": "8c6287de",
      "metadata": {
        "id": "8c6287de",
        "outputId": "a2d11076-8855-480c-d18e-c3ee9cf9b65d"
      },
      "outputs": [
        {
          "data": {
            "text/plain": [
              "array([0, 1, 2, 3])"
            ]
          },
          "execution_count": 46,
          "metadata": {},
          "output_type": "execute_result"
        }
      ],
      "source": [
        "# Broadcasting and Vectorized operations\n",
        "\n",
        "# create a NumPy array with sequential integer values ranging from 0 to 3.\n",
        "a = np.arange(4)\n",
        "\n",
        "a\n"
      ]
    },
    {
      "cell_type": "code",
      "execution_count": null,
      "id": "38025954",
      "metadata": {
        "id": "38025954",
        "outputId": "6fde4ae1-d2a8-4bb4-f467-db64d579eb24"
      },
      "outputs": [
        {
          "data": {
            "text/plain": [
              "array([10, 11, 12, 13])"
            ]
          },
          "execution_count": 47,
          "metadata": {},
          "output_type": "execute_result"
        }
      ],
      "source": [
        "#this will add up 10 to all elements of the array\n",
        "a + 10"
      ]
    },
    {
      "cell_type": "code",
      "execution_count": null,
      "id": "aa76851f",
      "metadata": {
        "id": "aa76851f",
        "outputId": "f3751722-2940-472a-bc51-1af61772b537"
      },
      "outputs": [
        {
          "data": {
            "text/plain": [
              "array([ 0, 10, 20, 30])"
            ]
          },
          "execution_count": 48,
          "metadata": {},
          "output_type": "execute_result"
        }
      ],
      "source": [
        "a * 10\n"
      ]
    },
    {
      "cell_type": "code",
      "execution_count": null,
      "id": "ab39d874",
      "metadata": {
        "id": "ab39d874",
        "outputId": "33b2281a-7743-4e7a-d511-bbfc139ea1ee"
      },
      "outputs": [
        {
          "data": {
            "text/plain": [
              "array([0, 1, 2, 3])"
            ]
          },
          "execution_count": 49,
          "metadata": {},
          "output_type": "execute_result"
        }
      ],
      "source": [
        "# array a remains unchanched as the changes are not assigned to it\n",
        "a"
      ]
    },
    {
      "cell_type": "code",
      "execution_count": null,
      "id": "200fd846",
      "metadata": {
        "id": "200fd846"
      },
      "outputs": [],
      "source": [
        "#equal to a = a + 100\n",
        "a += 100"
      ]
    },
    {
      "cell_type": "code",
      "execution_count": null,
      "id": "66423e2c",
      "metadata": {
        "id": "66423e2c",
        "outputId": "c3d2da8e-a742-499e-8966-2be7ac23e626"
      },
      "outputs": [
        {
          "data": {
            "text/plain": [
              "array([100, 101, 102, 103])"
            ]
          },
          "execution_count": 51,
          "metadata": {},
          "output_type": "execute_result"
        }
      ],
      "source": [
        "#array is now changed\n",
        "a"
      ]
    },
    {
      "cell_type": "code",
      "execution_count": null,
      "id": "d74fecc9",
      "metadata": {
        "id": "d74fecc9"
      },
      "outputs": [],
      "source": [
        "b = np.array([10, 10, 10, 10])"
      ]
    },
    {
      "cell_type": "code",
      "execution_count": null,
      "id": "bea23bb4",
      "metadata": {
        "id": "bea23bb4",
        "outputId": "a95286c5-16b3-4504-efbf-2dd5636d5949"
      },
      "outputs": [
        {
          "data": {
            "text/plain": [
              "array([110, 111, 112, 113])"
            ]
          },
          "execution_count": 53,
          "metadata": {},
          "output_type": "execute_result"
        }
      ],
      "source": [
        "a + b"
      ]
    },
    {
      "cell_type": "code",
      "execution_count": null,
      "id": "01821566",
      "metadata": {
        "id": "01821566",
        "outputId": "9ed41a63-e264-48b0-9793-9c8f97775406"
      },
      "outputs": [
        {
          "data": {
            "text/plain": [
              "array([1000, 1010, 1020, 1030])"
            ]
          },
          "execution_count": 54,
          "metadata": {},
          "output_type": "execute_result"
        }
      ],
      "source": [
        "a * b"
      ]
    },
    {
      "cell_type": "markdown",
      "id": "6bf76c5d",
      "metadata": {
        "id": "6bf76c5d"
      },
      "source": [
        "##### Numpy functions\n",
        "\n",
        "1. random"
      ]
    },
    {
      "cell_type": "code",
      "execution_count": null,
      "id": "2ddc5870",
      "metadata": {
        "id": "2ddc5870",
        "outputId": "d4abe24c-eeb1-46d1-f716-2be6d687e934"
      },
      "outputs": [
        {
          "data": {
            "text/plain": [
              "array([0.587872  , 0.00983794])"
            ]
          },
          "execution_count": 55,
          "metadata": {},
          "output_type": "execute_result"
        }
      ],
      "source": [
        "A = np.random.random(size=2)\n",
        "\n",
        "# Generates random numbers from a uniform distribution\n",
        "# between 0 (inclusive) and 1 (exclusive).\n",
        "# The argument size specifies the shape of the output array.\n",
        "# size=2 means it will generate an array with two random values.\n",
        "A"
      ]
    },
    {
      "cell_type": "code",
      "execution_count": null,
      "id": "8b4fb096",
      "metadata": {
        "id": "8b4fb096",
        "outputId": "0b188de0-d935-46fa-fb53-faa2cf0697ff"
      },
      "outputs": [
        {
          "data": {
            "text/plain": [
              "array([-0.12701599, -0.1300116 ])"
            ]
          },
          "execution_count": 56,
          "metadata": {},
          "output_type": "execute_result"
        }
      ],
      "source": [
        "B = np.random.normal(size=2)\n",
        "# Generates random numbers from a normal (Gaussian) distribution\n",
        "# with a mean of 0 and a standard deviation of 1 by default.\n",
        "# The argument size specifies the shape of the output array.\n",
        "# size=2 means it will generate an array with two random values.\n",
        "B"
      ]
    },
    {
      "cell_type": "code",
      "execution_count": null,
      "id": "8a6e2be0",
      "metadata": {
        "id": "8a6e2be0",
        "outputId": "cfaf43d5-8b91-4544-9a4f-81100efdd7a0"
      },
      "outputs": [
        {
          "data": {
            "text/plain": [
              "array([[0.24487619, 0.80518855, 0.02684775, 0.96090579],\n",
              "       [0.92669335, 0.55338478, 0.9179031 , 0.95093947]])"
            ]
          },
          "execution_count": 57,
          "metadata": {},
          "output_type": "execute_result"
        }
      ],
      "source": [
        "C = np.random.rand(2, 4)\n",
        "# Generates random numbers from a uniform distribution between 0 (inclusive) and 1 (exclusive).\n",
        "# The rand function is typically used to generate random values\n",
        "# that follow a uniform distribution.\n",
        "# The argument 2, 4 specifies the shape of the output array.\n",
        "# 2 rows and 4 columns filled with random values between 0 and 1.\n",
        "C"
      ]
    },
    {
      "cell_type": "code",
      "execution_count": null,
      "id": "14a3066f",
      "metadata": {
        "id": "14a3066f"
      },
      "outputs": [],
      "source": [
        "# create an array of 3 rows and 3 columns with random values from 0 to 100\n",
        "\n",
        "A = np.random.randint(100, size=(3, 3))"
      ]
    },
    {
      "cell_type": "code",
      "execution_count": null,
      "id": "f57b4f8e",
      "metadata": {
        "id": "f57b4f8e",
        "outputId": "c890e061-60bb-4c5d-b781-86ad83deb389"
      },
      "outputs": [
        {
          "data": {
            "text/plain": [
              "array([[85, 98, 65],\n",
              "       [37, 11, 30],\n",
              "       [70, 37, 15]])"
            ]
          },
          "execution_count": 59,
          "metadata": {},
          "output_type": "execute_result"
        }
      ],
      "source": [
        "A"
      ]
    },
    {
      "cell_type": "markdown",
      "id": "892431f9",
      "metadata": {
        "id": "892431f9"
      },
      "source": [
        "###### 2. arange"
      ]
    },
    {
      "cell_type": "code",
      "execution_count": null,
      "id": "1ed8d959",
      "metadata": {
        "id": "1ed8d959",
        "outputId": "63d08f1a-4feb-456a-98a4-d214878c744e"
      },
      "outputs": [
        {
          "data": {
            "text/plain": [
              "array([0, 1, 2, 3, 4, 5, 6, 7, 8, 9])"
            ]
          },
          "execution_count": 60,
          "metadata": {},
          "output_type": "execute_result"
        }
      ],
      "source": [
        "A = np.arange(10)\n",
        "# Generates a 1-dimensional array with values from 0 up to,\n",
        "# but not including, 10.\n",
        "A"
      ]
    },
    {
      "cell_type": "code",
      "execution_count": null,
      "id": "c4faafab",
      "metadata": {
        "id": "c4faafab",
        "outputId": "b9f372a7-271f-4d6b-d4f6-c6ea2f460d21"
      },
      "outputs": [
        {
          "data": {
            "text/plain": [
              "array([5, 6, 7, 8, 9])"
            ]
          },
          "execution_count": 61,
          "metadata": {},
          "output_type": "execute_result"
        }
      ],
      "source": [
        "B = np.arange(5, 10)\n",
        "# Generate a 1-dimensional array with values starting from 5\n",
        "# and going up to, but not including, 10.\n",
        "B"
      ]
    },
    {
      "cell_type": "code",
      "execution_count": null,
      "id": "a848cfab",
      "metadata": {
        "id": "a848cfab",
        "outputId": "0eb8e68e-d51a-4afe-f56b-daf2c7a2b853"
      },
      "outputs": [
        {
          "data": {
            "text/plain": [
              "array([0. , 0.1, 0.2, 0.3, 0.4, 0.5, 0.6, 0.7, 0.8, 0.9])"
            ]
          },
          "execution_count": 62,
          "metadata": {},
          "output_type": "execute_result"
        }
      ],
      "source": [
        "C = np.arange(0, 1, .1)\n",
        "# Generate a sequence of numbers starting from 0 and incrementing by 0.1\n",
        "# until it reaches a value just less than 1\n",
        "C"
      ]
    },
    {
      "cell_type": "markdown",
      "id": "2d6601f0",
      "metadata": {
        "id": "2d6601f0"
      },
      "source": [
        "##### 3. reshape"
      ]
    },
    {
      "cell_type": "code",
      "execution_count": null,
      "id": "65c032d2",
      "metadata": {
        "id": "65c032d2",
        "outputId": "41fad48d-50f7-4b9e-e616-c41181480f2f"
      },
      "outputs": [
        {
          "data": {
            "text/plain": [
              "array([[0, 1, 2, 3, 4],\n",
              "       [5, 6, 7, 8, 9]])"
            ]
          },
          "execution_count": 63,
          "metadata": {},
          "output_type": "execute_result"
        }
      ],
      "source": [
        "A = np.arange(10).reshape(2, 5)\n",
        "# creates a 1-dimensional NumPy array with values from 0 to 9 (inclusive),\n",
        "# then arranges the values into a 2-dimensional array with 2 rows and 5 columns\n",
        "A"
      ]
    },
    {
      "cell_type": "code",
      "execution_count": null,
      "id": "86c16c64",
      "metadata": {
        "id": "86c16c64",
        "outputId": "7a573a08-bd0c-4f38-c8c3-dc08b1db08c3"
      },
      "outputs": [
        {
          "data": {
            "text/plain": [
              "array([[0, 1],\n",
              "       [2, 3],\n",
              "       [4, 5],\n",
              "       [6, 7],\n",
              "       [8, 9]])"
            ]
          },
          "execution_count": 64,
          "metadata": {},
          "output_type": "execute_result"
        }
      ],
      "source": [
        "B = np.arange(10).reshape(5, 2)\n",
        "# creates a 1-dimensional array with values from 0 to 9 (inclusive),\n",
        "# then arranges the values into a 2-dimensional array with 5 rows and 2 columns\n",
        "B"
      ]
    },
    {
      "cell_type": "markdown",
      "id": "8d33e24a",
      "metadata": {
        "id": "8d33e24a"
      },
      "source": [
        "##### 4. linspace"
      ]
    },
    {
      "cell_type": "code",
      "execution_count": null,
      "id": "008d3cc3",
      "metadata": {
        "id": "008d3cc3",
        "outputId": "66c0a94a-f6f8-4e4b-d323-efdcfdc92c24"
      },
      "outputs": [
        {
          "data": {
            "text/plain": [
              "array([0.  , 0.25, 0.5 , 0.75, 1.  ])"
            ]
          },
          "execution_count": 65,
          "metadata": {},
          "output_type": "execute_result"
        }
      ],
      "source": [
        "A = np.linspace(0, 1, 5)\n",
        "# generates 5 evenly spaced values between 0 (inclusive) and 1 (inclusive)\n",
        "A"
      ]
    },
    {
      "cell_type": "code",
      "execution_count": null,
      "id": "610a02cc",
      "metadata": {
        "id": "610a02cc",
        "outputId": "8fc17bc8-29f9-48c5-91c9-a9c7b93a496a"
      },
      "outputs": [
        {
          "data": {
            "text/plain": [
              "array([0.        , 0.05263158, 0.10526316, 0.15789474, 0.21052632,\n",
              "       0.26315789, 0.31578947, 0.36842105, 0.42105263, 0.47368421,\n",
              "       0.52631579, 0.57894737, 0.63157895, 0.68421053, 0.73684211,\n",
              "       0.78947368, 0.84210526, 0.89473684, 0.94736842, 1.        ])"
            ]
          },
          "execution_count": 66,
          "metadata": {},
          "output_type": "execute_result"
        }
      ],
      "source": [
        "B = np.linspace(0, 1, 20)\n",
        "# generates 20 evenly spaced values between 0 (inclusive) and 1 (inclusive).\n",
        "B"
      ]
    },
    {
      "cell_type": "code",
      "execution_count": null,
      "id": "87a0f9be",
      "metadata": {
        "id": "87a0f9be",
        "outputId": "746c7baa-323a-4abb-b561-44da9d30fe99"
      },
      "outputs": [
        {
          "data": {
            "text/plain": [
              "array([0.  , 0.05, 0.1 , 0.15, 0.2 , 0.25, 0.3 , 0.35, 0.4 , 0.45, 0.5 ,\n",
              "       0.55, 0.6 , 0.65, 0.7 , 0.75, 0.8 , 0.85, 0.9 , 0.95])"
            ]
          },
          "execution_count": 67,
          "metadata": {},
          "output_type": "execute_result"
        }
      ],
      "source": [
        "C = np.linspace(0, 1, 20, False)\n",
        "# generates 20 evenly spaced values between 0 (inclusive) and 1,\n",
        "# but it doesn't include the endpoint (1.0)\n",
        "C"
      ]
    },
    {
      "cell_type": "markdown",
      "id": "2c6f93ed",
      "metadata": {
        "id": "2c6f93ed"
      },
      "source": [
        "##### 5. zeros, ones, empty"
      ]
    },
    {
      "cell_type": "code",
      "execution_count": null,
      "id": "cc5fad51",
      "metadata": {
        "id": "cc5fad51",
        "outputId": "444dae05-276f-442f-cfce-11585c29e07d"
      },
      "outputs": [
        {
          "data": {
            "text/plain": [
              "array([0., 0., 0., 0., 0.])"
            ]
          },
          "execution_count": 68,
          "metadata": {},
          "output_type": "execute_result"
        }
      ],
      "source": [
        "A = np.zeros(5)\n",
        "# generates 1D array with five zeros\n",
        "A"
      ]
    },
    {
      "cell_type": "code",
      "execution_count": null,
      "id": "8cdcf85c",
      "metadata": {
        "id": "8cdcf85c",
        "outputId": "12f97b92-5dee-4055-c05f-3e4938ee7c75"
      },
      "outputs": [
        {
          "data": {
            "text/plain": [
              "array([[0., 0., 0.],\n",
              "       [0., 0., 0.],\n",
              "       [0., 0., 0.]])"
            ]
          },
          "execution_count": 69,
          "metadata": {},
          "output_type": "execute_result"
        }
      ],
      "source": [
        "B = np.zeros((3, 3))\n",
        "# generates 2D array with 3 rows and 3 columns filled with 0s\n",
        "B"
      ]
    },
    {
      "cell_type": "code",
      "execution_count": null,
      "id": "66f4563d",
      "metadata": {
        "id": "66f4563d",
        "outputId": "61b3c51d-ca60-42ed-9075-84851bde6d54"
      },
      "outputs": [
        {
          "data": {
            "text/plain": [
              "array([1., 1., 1., 1., 1.])"
            ]
          },
          "execution_count": 70,
          "metadata": {},
          "output_type": "execute_result"
        }
      ],
      "source": [
        "C = np.ones(5)\n",
        "# generates 1D array with five ones\n",
        "C"
      ]
    },
    {
      "cell_type": "code",
      "execution_count": null,
      "id": "b5218ca2",
      "metadata": {
        "id": "b5218ca2",
        "outputId": "6d792fd5-76f8-4afa-edf3-bd30f04eede9"
      },
      "outputs": [
        {
          "data": {
            "text/plain": [
              "array([[1., 1., 1.],\n",
              "       [1., 1., 1.],\n",
              "       [1., 1., 1.]])"
            ]
          },
          "execution_count": 71,
          "metadata": {},
          "output_type": "execute_result"
        }
      ],
      "source": [
        "D = np.ones((3, 3))\n",
        "# generates 2D array with 3 rows and 3 columns filled with 1s\n",
        "D"
      ]
    },
    {
      "cell_type": "code",
      "execution_count": null,
      "id": "d8affb13",
      "metadata": {
        "id": "d8affb13",
        "outputId": "1035a21f-fdc8-4026-a7ba-0091d3446417"
      },
      "outputs": [
        {
          "data": {
            "text/plain": [
              "array([1., 1., 1., 1., 1.])"
            ]
          },
          "execution_count": 72,
          "metadata": {},
          "output_type": "execute_result"
        }
      ],
      "source": [
        "E = np.empty(5)\n",
        "# allocates memory for a 1D array with five elements\n",
        "# but does not set their values to any specific initial values.\n",
        "#The values in E will also be uninitialized and may appear as random numbers.\n",
        "E"
      ]
    },
    {
      "cell_type": "code",
      "execution_count": null,
      "id": "ad215437",
      "metadata": {
        "id": "ad215437",
        "outputId": "08f0927f-3be4-494d-8410-908bb7403de6"
      },
      "outputs": [
        {
          "data": {
            "text/plain": [
              "array([[0.25, 0.5 ],\n",
              "       [0.75, 1.  ]])"
            ]
          },
          "execution_count": 73,
          "metadata": {},
          "output_type": "execute_result"
        }
      ],
      "source": [
        "F = np.empty((2, 2))\n",
        "# 2D array with 2 rows and 2 columns without specific initial values.\n",
        "# The values in F will also be uninitialized and may appear as random numbers.\n",
        "F"
      ]
    },
    {
      "cell_type": "markdown",
      "id": "dd347343",
      "metadata": {
        "id": "dd347343"
      },
      "source": [
        "##### 6. identity and eye"
      ]
    },
    {
      "cell_type": "code",
      "execution_count": null,
      "id": "11e8a8f5",
      "metadata": {
        "id": "11e8a8f5",
        "outputId": "5abaf9a5-10a1-4d37-d332-e835df6b0c1d"
      },
      "outputs": [
        {
          "data": {
            "text/plain": [
              "array([[1., 0., 0.],\n",
              "       [0., 1., 0.],\n",
              "       [0., 0., 1.]])"
            ]
          },
          "execution_count": 74,
          "metadata": {},
          "output_type": "execute_result"
        }
      ],
      "source": [
        "A = np.identity(3)\n",
        "# An identity matrix is a square matrix where all the diagonal elements are 1,\n",
        "# and all other elements are 0\n",
        "A"
      ]
    },
    {
      "cell_type": "code",
      "execution_count": null,
      "id": "2a9856ed",
      "metadata": {
        "id": "2a9856ed",
        "outputId": "6030e0ee-e69b-436d-f1b0-2085be4ae4ad"
      },
      "outputs": [
        {
          "data": {
            "text/plain": [
              "array([[1., 0., 0.],\n",
              "       [0., 1., 0.],\n",
              "       [0., 0., 1.]])"
            ]
          },
          "execution_count": 75,
          "metadata": {},
          "output_type": "execute_result"
        }
      ],
      "source": [
        "B = np.eye(3, 3)\n",
        "# creates a 3x3 identity matrix.\n",
        "#The np.eye() function allows specifying the number of rows and columns\n",
        "B"
      ]
    },
    {
      "cell_type": "code",
      "execution_count": null,
      "id": "2bf30ba1",
      "metadata": {
        "id": "2bf30ba1",
        "outputId": "7ef86c3c-1a6d-49de-8595-f8d7849a211a"
      },
      "outputs": [
        {
          "data": {
            "text/plain": [
              "array([[1., 0., 0., 0.],\n",
              "       [0., 1., 0., 0.],\n",
              "       [0., 0., 1., 0.],\n",
              "       [0., 0., 0., 1.],\n",
              "       [0., 0., 0., 0.],\n",
              "       [0., 0., 0., 0.],\n",
              "       [0., 0., 0., 0.],\n",
              "       [0., 0., 0., 0.]])"
            ]
          },
          "execution_count": 76,
          "metadata": {},
          "output_type": "execute_result"
        }
      ],
      "source": [
        "C = np.eye(8, 4)\n",
        "# creating a non-square identity matrix,\n",
        "# 8x4 matrix where the diagonal elements are 1, and all other elements are 0.\n",
        "C"
      ]
    },
    {
      "cell_type": "code",
      "execution_count": null,
      "id": "afa33bd4",
      "metadata": {
        "id": "afa33bd4",
        "outputId": "fb01500d-2c92-4982-b81a-f289e99ef286"
      },
      "outputs": [
        {
          "data": {
            "text/plain": [
              "array([[0., 1., 0., 0.],\n",
              "       [0., 0., 1., 0.],\n",
              "       [0., 0., 0., 1.],\n",
              "       [0., 0., 0., 0.],\n",
              "       [0., 0., 0., 0.],\n",
              "       [0., 0., 0., 0.],\n",
              "       [0., 0., 0., 0.],\n",
              "       [0., 0., 0., 0.]])"
            ]
          },
          "execution_count": 77,
          "metadata": {},
          "output_type": "execute_result"
        }
      ],
      "source": [
        "D = np.eye(8, 4, k=1)\n",
        "# creates an 8x4 identity matrix with an offset of 1,\n",
        "# meaning that the 1's start one position to the right of the main diagonal.\n",
        "D"
      ]
    },
    {
      "cell_type": "code",
      "execution_count": null,
      "id": "5d211490",
      "metadata": {
        "id": "5d211490",
        "outputId": "f207bd2b-6479-4a73-e2ba-647e89e939a8"
      },
      "outputs": [
        {
          "data": {
            "text/plain": [
              "array([[0., 0., 0., 0.],\n",
              "       [0., 0., 0., 0.],\n",
              "       [0., 0., 0., 0.],\n",
              "       [1., 0., 0., 0.],\n",
              "       [0., 1., 0., 0.],\n",
              "       [0., 0., 1., 0.],\n",
              "       [0., 0., 0., 1.],\n",
              "       [0., 0., 0., 0.]])"
            ]
          },
          "execution_count": 78,
          "metadata": {},
          "output_type": "execute_result"
        }
      ],
      "source": [
        "E = np.eye(8, 4, k=-3)\n",
        "# creates an 8x4 identity matrix with an offset of -3,\n",
        "# meaning that the 1's start three positions to the left of the main diagonal.\n",
        "E"
      ]
    },
    {
      "cell_type": "code",
      "execution_count": null,
      "id": "bc6cfa67",
      "metadata": {
        "id": "bc6cfa67"
      },
      "outputs": [],
      "source": []
    }
  ],
  "metadata": {
    "kernelspec": {
      "display_name": "Python 3 (ipykernel)",
      "language": "python",
      "name": "python3"
    },
    "language_info": {
      "codemirror_mode": {
        "name": "ipython",
        "version": 3
      },
      "file_extension": ".py",
      "mimetype": "text/x-python",
      "name": "python",
      "nbconvert_exporter": "python",
      "pygments_lexer": "ipython3",
      "version": "3.10.9"
    },
    "colab": {
      "provenance": []
    }
  },
  "nbformat": 4,
  "nbformat_minor": 5
}