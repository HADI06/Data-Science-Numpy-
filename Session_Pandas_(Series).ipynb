{
  "cells": [
    {
      "cell_type": "markdown",
      "id": "587e1bac",
      "metadata": {
        "id": "587e1bac"
      },
      "source": [
        "##### Pandas\n",
        "\n",
        "1. Series\n",
        "2. DataFrame"
      ]
    },
    {
      "cell_type": "code",
      "execution_count": null,
      "id": "7af9edaa",
      "metadata": {
        "id": "7af9edaa"
      },
      "outputs": [],
      "source": [
        "import pandas as pd\n",
        "import numpy as np"
      ]
    },
    {
      "cell_type": "markdown",
      "id": "13bc3a35",
      "metadata": {
        "id": "13bc3a35"
      },
      "source": [
        "##### Pandas Series\n",
        "\n",
        "We'll start analyzing \"The Group of Seven\". Which is a political formed by Canada, France, Germany, Italy, Japan, the United Kingdom and the United States. We'll start by analyzing population, and for that, we'll use a pandas.Series object.\n"
      ]
    },
    {
      "cell_type": "code",
      "execution_count": null,
      "id": "98a43410",
      "metadata": {
        "id": "98a43410"
      },
      "outputs": [],
      "source": [
        "# In millions\n",
        "\n",
        "population = pd.Series([35.467, 63.951, 80.940, 60.665, 127.061, 64.511, 318.523])\n",
        "pop=np.array([35.467, 63.951, 80.940, 60.665, 127.061, 64.511, 318.523])"
      ]
    },
    {
      "cell_type": "code",
      "execution_count": null,
      "id": "67a132b4",
      "metadata": {
        "id": "67a132b4",
        "outputId": "18993ed5-21a2-4c8d-a9ea-ad4d1d326277"
      },
      "outputs": [
        {
          "data": {
            "text/plain": [
              "array([ 35.467,  63.951,  80.94 ,  60.665, 127.061,  64.511, 318.523])"
            ]
          },
          "execution_count": 4,
          "metadata": {},
          "output_type": "execute_result"
        }
      ],
      "source": [
        "pop"
      ]
    },
    {
      "cell_type": "code",
      "execution_count": null,
      "id": "f8b30ce2",
      "metadata": {
        "id": "f8b30ce2",
        "outputId": "804b5883-ed69-42db-a565-f1cc7a0793e4"
      },
      "outputs": [
        {
          "data": {
            "text/plain": [
              "0     35.467\n",
              "1     63.951\n",
              "2     80.940\n",
              "3     60.665\n",
              "4    127.061\n",
              "5     64.511\n",
              "6    318.523\n",
              "dtype: float64"
            ]
          },
          "execution_count": 28,
          "metadata": {},
          "output_type": "execute_result"
        }
      ],
      "source": [
        "population"
      ]
    },
    {
      "cell_type": "code",
      "execution_count": null,
      "id": "35f8d6b7",
      "metadata": {
        "id": "35f8d6b7"
      },
      "outputs": [],
      "source": [
        "# Series can have a name, to better document the purpose of the Series:\n",
        "population.name = 'G7 Population in millions'"
      ]
    },
    {
      "cell_type": "code",
      "execution_count": null,
      "id": "0440779c",
      "metadata": {
        "id": "0440779c",
        "outputId": "6548da52-ae13-4c5b-c3f9-c6283d1c37f0"
      },
      "outputs": [
        {
          "data": {
            "text/plain": [
              "0     35.467\n",
              "1     63.951\n",
              "2     80.940\n",
              "3     60.665\n",
              "4    127.061\n",
              "5     64.511\n",
              "6    318.523\n",
              "Name: G7 Population in millions, dtype: float64"
            ]
          },
          "execution_count": 30,
          "metadata": {},
          "output_type": "execute_result"
        }
      ],
      "source": [
        "population"
      ]
    },
    {
      "cell_type": "code",
      "execution_count": null,
      "id": "f8115430",
      "metadata": {
        "id": "f8115430",
        "outputId": "d8c876e7-1ca0-4ba0-ff63-6a1799f43858"
      },
      "outputs": [
        {
          "data": {
            "text/plain": [
              "dtype('float64')"
            ]
          },
          "execution_count": 31,
          "metadata": {},
          "output_type": "execute_result"
        }
      ],
      "source": [
        "population.dtype"
      ]
    },
    {
      "cell_type": "code",
      "execution_count": null,
      "id": "4923b786",
      "metadata": {
        "id": "4923b786",
        "outputId": "9449e847-2869-46b5-f5d1-cc2e195d7b9e"
      },
      "outputs": [
        {
          "data": {
            "text/plain": [
              "array([ 35.467,  63.951,  80.94 ,  60.665, 127.061,  64.511, 318.523])"
            ]
          },
          "execution_count": 32,
          "metadata": {},
          "output_type": "execute_result"
        }
      ],
      "source": [
        "population.values"
      ]
    },
    {
      "cell_type": "code",
      "execution_count": null,
      "id": "e5bc0af1",
      "metadata": {
        "id": "e5bc0af1",
        "outputId": "902679d7-f66b-459d-e7de-15694de1c259"
      },
      "outputs": [
        {
          "data": {
            "text/plain": [
              "numpy.ndarray"
            ]
          },
          "execution_count": 33,
          "metadata": {},
          "output_type": "execute_result"
        }
      ],
      "source": [
        "#They're actually backed by numpy arrays:\n",
        "type(population.values)"
      ]
    },
    {
      "cell_type": "markdown",
      "id": "0577c0fb",
      "metadata": {
        "id": "0577c0fb"
      },
      "source": [
        "Pandas Series look like simple Python lists or Numpy Arrays. But they're actually more similar to Python dicts.\n",
        "\n",
        "A Series has an index, that's similar to the automatic index assigned to Python's lists\n"
      ]
    },
    {
      "cell_type": "code",
      "execution_count": null,
      "id": "80859ebf",
      "metadata": {
        "id": "80859ebf",
        "outputId": "cdeaa5ec-c26c-4742-8d78-1f5f9aa727fe"
      },
      "outputs": [
        {
          "data": {
            "text/plain": [
              "0     35.467\n",
              "1     63.951\n",
              "2     80.940\n",
              "3     60.665\n",
              "4    127.061\n",
              "5     64.511\n",
              "6    318.523\n",
              "dtype: float64"
            ]
          },
          "execution_count": 7,
          "metadata": {},
          "output_type": "execute_result"
        }
      ],
      "source": [
        "population"
      ]
    },
    {
      "cell_type": "code",
      "execution_count": null,
      "id": "e07e9624",
      "metadata": {
        "id": "e07e9624",
        "outputId": "cb7725d6-5664-436c-eaae-d08853b10121"
      },
      "outputs": [
        {
          "data": {
            "text/plain": [
              "35.467"
            ]
          },
          "execution_count": 8,
          "metadata": {},
          "output_type": "execute_result"
        }
      ],
      "source": [
        "population[0]"
      ]
    },
    {
      "cell_type": "code",
      "execution_count": null,
      "id": "74ff17b2",
      "metadata": {
        "id": "74ff17b2",
        "outputId": "49d9db5e-5f72-44cc-d710-86d6c005ec57"
      },
      "outputs": [
        {
          "data": {
            "text/plain": [
              "63.951"
            ]
          },
          "execution_count": 9,
          "metadata": {},
          "output_type": "execute_result"
        }
      ],
      "source": [
        "population[1]"
      ]
    },
    {
      "cell_type": "code",
      "execution_count": null,
      "id": "cb303e6c",
      "metadata": {
        "id": "cb303e6c",
        "outputId": "0e81bfec-6647-44ab-c474-48f4b9c82021"
      },
      "outputs": [
        {
          "data": {
            "text/plain": [
              "RangeIndex(start=0, stop=7, step=1)"
            ]
          },
          "execution_count": 10,
          "metadata": {},
          "output_type": "execute_result"
        }
      ],
      "source": [
        "population.index"
      ]
    },
    {
      "cell_type": "markdown",
      "id": "742a95de",
      "metadata": {
        "id": "742a95de"
      },
      "source": [
        "But, in contrast to lists, we can explicitly define the index:"
      ]
    },
    {
      "cell_type": "code",
      "execution_count": null,
      "id": "8b3943d3",
      "metadata": {
        "id": "8b3943d3"
      },
      "outputs": [],
      "source": [
        "population.index = [\n",
        "    'Canada',\n",
        "    'France',\n",
        "    'Germany',\n",
        "    'Italy',\n",
        "    'Japan',\n",
        "    'United Kingdom',\n",
        "    'United States',\n",
        "]"
      ]
    },
    {
      "cell_type": "code",
      "execution_count": null,
      "id": "653475c9",
      "metadata": {
        "id": "653475c9",
        "outputId": "4154f435-e5c5-46bb-e5e8-47740a4df7ab"
      },
      "outputs": [
        {
          "data": {
            "text/plain": [
              "Canada             35.467\n",
              "France             63.951\n",
              "Germany            80.940\n",
              "Italy              60.665\n",
              "Japan             127.061\n",
              "United Kingdom     64.511\n",
              "United States     318.523\n",
              "dtype: float64"
            ]
          },
          "execution_count": 12,
          "metadata": {},
          "output_type": "execute_result"
        }
      ],
      "source": [
        "population"
      ]
    },
    {
      "cell_type": "markdown",
      "id": "e759714d",
      "metadata": {
        "id": "e759714d"
      },
      "source": [
        "We can say that Series look like \"ordered dictionaries\". We can actually create Series out of dictionaries:"
      ]
    },
    {
      "cell_type": "code",
      "execution_count": null,
      "id": "0f3099e1",
      "metadata": {
        "id": "0f3099e1",
        "outputId": "3b2e7eca-07ba-470c-fc2c-0a694f7cb636"
      },
      "outputs": [
        {
          "data": {
            "text/plain": [
              "Canada             35.467\n",
              "France             63.951\n",
              "Germany            80.940\n",
              "Italy              60.665\n",
              "Japan             127.061\n",
              "United Kingdom     64.511\n",
              "United States     318.523\n",
              "Name: G7 Population in millions, dtype: float64"
            ]
          },
          "execution_count": 13,
          "metadata": {},
          "output_type": "execute_result"
        }
      ],
      "source": [
        "pd.Series({\n",
        "    'Canada': 35.467,\n",
        "    'France': 63.951,\n",
        "    'Germany': 80.94,\n",
        "    'Italy': 60.665,\n",
        "    'Japan': 127.061,\n",
        "    'United Kingdom': 64.511,\n",
        "    'United States': 318.523\n",
        "}, name='G7 Population in millions')"
      ]
    },
    {
      "cell_type": "code",
      "execution_count": null,
      "id": "60f61e9a",
      "metadata": {
        "id": "60f61e9a",
        "outputId": "1d000091-5506-4f9f-c395-93049e5d04a5"
      },
      "outputs": [
        {
          "data": {
            "text/plain": [
              "Canada             35.467\n",
              "France             63.951\n",
              "Germany            80.940\n",
              "Italy              60.665\n",
              "Japan             127.061\n",
              "United Kingdom     64.511\n",
              "United States     318.523\n",
              "Name: G7 Population in millions, dtype: float64"
            ]
          },
          "execution_count": 14,
          "metadata": {},
          "output_type": "execute_result"
        }
      ],
      "source": [
        "pd.Series(\n",
        "    [35.467, 63.951, 80.94, 60.665, 127.061, 64.511, 318.523],\n",
        "    index=['Canada', 'France', 'Germany', 'Italy', 'Japan', 'United Kingdom',\n",
        "       'United States'],\n",
        "    name='G7 Population in millions')"
      ]
    },
    {
      "cell_type": "code",
      "execution_count": null,
      "id": "6b76dd23",
      "metadata": {
        "id": "6b76dd23",
        "outputId": "0413426f-8ea7-49fa-d4c5-0dd127b83861"
      },
      "outputs": [
        {
          "data": {
            "text/plain": [
              "Canada             35.467\n",
              "France             63.951\n",
              "Germany            80.940\n",
              "Italy              60.665\n",
              "Japan             127.061\n",
              "United Kingdom     64.511\n",
              "United States     318.523\n",
              "dtype: float64"
            ]
          },
          "execution_count": 15,
          "metadata": {},
          "output_type": "execute_result"
        }
      ],
      "source": [
        "population"
      ]
    },
    {
      "cell_type": "code",
      "execution_count": null,
      "id": "80232e92",
      "metadata": {
        "id": "80232e92",
        "outputId": "fe5af9d6-f801-4a15-c549-1f2c37cf1988"
      },
      "outputs": [
        {
          "data": {
            "text/plain": [
              "Germany    80.940\n",
              "Italy      60.665\n",
              "Spain         NaN\n",
              "France     63.951\n",
              "dtype: float64"
            ]
          },
          "execution_count": 17,
          "metadata": {},
          "output_type": "execute_result"
        }
      ],
      "source": [
        "pd.Series(population, index=['Germany', 'Italy', 'Spain','France'])"
      ]
    },
    {
      "cell_type": "markdown",
      "id": "a1b64a62",
      "metadata": {
        "id": "a1b64a62"
      },
      "source": [
        "##### Indexing\n",
        "\n",
        "Indexing works similarly to lists and dictionaries, you use the index of the element you're looking for:"
      ]
    },
    {
      "cell_type": "code",
      "execution_count": null,
      "id": "a48ad706",
      "metadata": {
        "id": "a48ad706",
        "outputId": "2bba3b11-3a1c-488f-9898-154c304d5bfc"
      },
      "outputs": [
        {
          "data": {
            "text/plain": [
              "Canada             35.467\n",
              "France             63.951\n",
              "Germany            80.940\n",
              "Italy              60.665\n",
              "Japan             127.061\n",
              "United Kingdom     64.511\n",
              "United States     318.523\n",
              "dtype: float64"
            ]
          },
          "execution_count": 18,
          "metadata": {},
          "output_type": "execute_result"
        }
      ],
      "source": [
        "population"
      ]
    },
    {
      "cell_type": "code",
      "execution_count": null,
      "id": "059b67d1",
      "metadata": {
        "id": "059b67d1",
        "outputId": "446c7ade-4f24-426d-8d28-674cb73dada2"
      },
      "outputs": [
        {
          "data": {
            "text/plain": [
              "Canada    35.467\n",
              "dtype: float64"
            ]
          },
          "execution_count": 21,
          "metadata": {},
          "output_type": "execute_result"
        }
      ],
      "source": [
        "pd.Series(population, index=['Canada'])"
      ]
    },
    {
      "cell_type": "code",
      "execution_count": null,
      "id": "108968bb",
      "metadata": {
        "id": "108968bb",
        "outputId": "32415210-237a-4c94-d9aa-2d9bc962519e"
      },
      "outputs": [
        {
          "data": {
            "text/plain": [
              "35.467"
            ]
          },
          "execution_count": 20,
          "metadata": {},
          "output_type": "execute_result"
        }
      ],
      "source": [
        "population['Canada']"
      ]
    },
    {
      "cell_type": "code",
      "execution_count": null,
      "id": "a3d792d6",
      "metadata": {
        "id": "a3d792d6",
        "outputId": "6ee71892-951b-4120-e721-7cd76b4ad54b"
      },
      "outputs": [
        {
          "data": {
            "text/plain": [
              "127.061"
            ]
          },
          "execution_count": 45,
          "metadata": {},
          "output_type": "execute_result"
        }
      ],
      "source": [
        "population['Japan']"
      ]
    },
    {
      "cell_type": "markdown",
      "id": "b36b4ed3",
      "metadata": {
        "id": "b36b4ed3"
      },
      "source": [
        "Numeric positions can also be used, with the iloc attribute:"
      ]
    },
    {
      "cell_type": "code",
      "execution_count": null,
      "id": "8654162b",
      "metadata": {
        "id": "8654162b",
        "outputId": "cfd7af8b-e2ab-4f9f-8396-585eed08b6d9"
      },
      "outputs": [
        {
          "data": {
            "text/plain": [
              "Canada     35.467\n",
              "France     63.951\n",
              "Germany    80.940\n",
              "Italy      60.665\n",
              "dtype: float64"
            ]
          },
          "execution_count": 22,
          "metadata": {},
          "output_type": "execute_result"
        }
      ],
      "source": [
        "population.iloc[0:4]"
      ]
    },
    {
      "cell_type": "code",
      "execution_count": null,
      "id": "7964ff2a",
      "metadata": {
        "id": "7964ff2a",
        "outputId": "9e0cf7ba-3033-462f-b5b1-2ea0605c4995"
      },
      "outputs": [
        {
          "data": {
            "text/plain": [
              "318.523"
            ]
          },
          "execution_count": 47,
          "metadata": {},
          "output_type": "execute_result"
        }
      ],
      "source": [
        "population.iloc[-1]"
      ]
    },
    {
      "cell_type": "markdown",
      "id": "e2093fa9",
      "metadata": {
        "id": "e2093fa9"
      },
      "source": [
        "Selecting multiple elements at once:"
      ]
    },
    {
      "cell_type": "code",
      "execution_count": null,
      "id": "ea0d8b16",
      "metadata": {
        "id": "ea0d8b16",
        "outputId": "89684cd9-ddc4-4092-aeac-c14b2690e644"
      },
      "outputs": [
        {
          "data": {
            "text/plain": [
              "Italy     60.665\n",
              "France    63.951\n",
              "Name: G7 Population in millions, dtype: float64"
            ]
          },
          "execution_count": 48,
          "metadata": {},
          "output_type": "execute_result"
        }
      ],
      "source": [
        "population[['Italy', 'France']]"
      ]
    },
    {
      "cell_type": "markdown",
      "id": "8ddb536c",
      "metadata": {
        "id": "8ddb536c"
      },
      "source": [
        "Slicing also works, but important, in Pandas, the upper limit is also included:"
      ]
    },
    {
      "cell_type": "code",
      "execution_count": null,
      "id": "c88e4d74",
      "metadata": {
        "id": "c88e4d74",
        "outputId": "0c8c7492-85de-4155-9cf1-f31bcdab4b79"
      },
      "outputs": [
        {
          "data": {
            "text/plain": [
              "Canada     35.467\n",
              "France     63.951\n",
              "Germany    80.940\n",
              "Italy      60.665\n",
              "Name: G7 Population in millions, dtype: float64"
            ]
          },
          "execution_count": 49,
          "metadata": {},
          "output_type": "execute_result"
        }
      ],
      "source": [
        "population['Canada': 'Italy']"
      ]
    },
    {
      "cell_type": "markdown",
      "id": "ca8115a5",
      "metadata": {
        "id": "ca8115a5"
      },
      "source": [
        "##### Conditional selection (boolean arrays)"
      ]
    },
    {
      "cell_type": "code",
      "execution_count": null,
      "id": "b64605b7",
      "metadata": {
        "id": "b64605b7",
        "outputId": "21bfa68a-af41-4d5e-f6aa-aba9f7244c4b"
      },
      "outputs": [
        {
          "data": {
            "text/plain": [
              "Canada             35.467\n",
              "France             63.951\n",
              "Germany            80.940\n",
              "Italy              60.665\n",
              "Japan             127.061\n",
              "United Kingdom     64.511\n",
              "United States     318.523\n",
              "Name: G7 Population in millions, dtype: float64"
            ]
          },
          "execution_count": 50,
          "metadata": {},
          "output_type": "execute_result"
        }
      ],
      "source": [
        "population"
      ]
    },
    {
      "cell_type": "code",
      "execution_count": null,
      "id": "67513d49",
      "metadata": {
        "id": "67513d49",
        "outputId": "c18f8d50-9241-4fc5-87eb-406c2dfb1e63"
      },
      "outputs": [
        {
          "data": {
            "text/plain": [
              "Canada            False\n",
              "France            False\n",
              "Germany            True\n",
              "Italy             False\n",
              "Japan              True\n",
              "United Kingdom    False\n",
              "United States      True\n",
              "Name: G7 Population in millions, dtype: bool"
            ]
          },
          "execution_count": 51,
          "metadata": {},
          "output_type": "execute_result"
        }
      ],
      "source": [
        "population > 70"
      ]
    },
    {
      "cell_type": "code",
      "execution_count": null,
      "id": "a0d79343",
      "metadata": {
        "id": "a0d79343",
        "outputId": "78e4dbe5-2371-4261-8980-c5ad0b7bac5a"
      },
      "outputs": [
        {
          "data": {
            "text/plain": [
              "107.30257142857144"
            ]
          },
          "execution_count": 52,
          "metadata": {},
          "output_type": "execute_result"
        }
      ],
      "source": [
        "population.mean()"
      ]
    },
    {
      "cell_type": "code",
      "execution_count": null,
      "id": "d6d557c1",
      "metadata": {
        "id": "d6d557c1",
        "outputId": "1a1dda62-42d1-4a4e-d013-e278eee10563"
      },
      "outputs": [
        {
          "data": {
            "text/plain": [
              "97.24996987121581"
            ]
          },
          "execution_count": 53,
          "metadata": {},
          "output_type": "execute_result"
        }
      ],
      "source": [
        "population.std()"
      ]
    },
    {
      "cell_type": "markdown",
      "id": "41aca792",
      "metadata": {
        "id": "41aca792"
      },
      "source": [
        "##### Operations and methods\n",
        "\n",
        "Series also support vectorized operations and aggregation functions as Numpy:"
      ]
    },
    {
      "cell_type": "code",
      "execution_count": null,
      "id": "a2c0f009",
      "metadata": {
        "id": "a2c0f009",
        "outputId": "ce6e36c8-a228-4918-897e-dbd042fed4c3"
      },
      "outputs": [
        {
          "data": {
            "text/plain": [
              "Canada             35467000.0\n",
              "France             63951000.0\n",
              "Germany            80940000.0\n",
              "Italy              60665000.0\n",
              "Japan             127061000.0\n",
              "United Kingdom     64511000.0\n",
              "United States     318523000.0\n",
              "Name: G7 Population in millions, dtype: float64"
            ]
          },
          "execution_count": 54,
          "metadata": {},
          "output_type": "execute_result"
        }
      ],
      "source": [
        "population * 1_000_000"
      ]
    },
    {
      "cell_type": "code",
      "execution_count": null,
      "id": "31289694",
      "metadata": {
        "id": "31289694",
        "outputId": "e203d154-3730-4999-9703-c45d1a15dcb6"
      },
      "outputs": [
        {
          "data": {
            "text/plain": [
              "Canada            3.568603\n",
              "France            4.158117\n",
              "Germany           4.393708\n",
              "Italy             4.105367\n",
              "Japan             4.844667\n",
              "United Kingdom    4.166836\n",
              "United States     5.763695\n",
              "Name: G7 Population in millions, dtype: float64"
            ]
          },
          "execution_count": 55,
          "metadata": {},
          "output_type": "execute_result"
        }
      ],
      "source": [
        "np.log(population)"
      ]
    },
    {
      "cell_type": "code",
      "execution_count": null,
      "id": "00b87f4b",
      "metadata": {
        "id": "00b87f4b",
        "outputId": "9fe7f1cb-e480-42cf-e394-aa428ba89c4a"
      },
      "outputs": [
        {
          "data": {
            "text/plain": [
              "Canada             35.467\n",
              "France             63.951\n",
              "Germany            80.940\n",
              "Italy              60.665\n",
              "Japan             127.061\n",
              "United Kingdom     64.511\n",
              "United States     318.523\n",
              "dtype: float64"
            ]
          },
          "execution_count": 23,
          "metadata": {},
          "output_type": "execute_result"
        }
      ],
      "source": [
        "population"
      ]
    },
    {
      "cell_type": "code",
      "execution_count": null,
      "id": "4d5a8cf9",
      "metadata": {
        "id": "4d5a8cf9",
        "outputId": "2955e06e-77a7-4b6b-924a-7ca86e911afb"
      },
      "outputs": [
        {
          "data": {
            "text/plain": [
              "68.51866666666666"
            ]
          },
          "execution_count": 56,
          "metadata": {},
          "output_type": "execute_result"
        }
      ],
      "source": [
        "population['France': 'Italy'].mean()"
      ]
    },
    {
      "cell_type": "code",
      "execution_count": null,
      "id": "333785f1",
      "metadata": {
        "id": "333785f1",
        "outputId": "efa97449-ae95-4873-ebb9-873f69de8330"
      },
      "outputs": [
        {
          "data": {
            "text/plain": [
              "185.391"
            ]
          },
          "execution_count": 30,
          "metadata": {},
          "output_type": "execute_result"
        }
      ],
      "source": [
        "population['Canada': 'Germany'].sum()"
      ]
    },
    {
      "cell_type": "markdown",
      "id": "cca586f0",
      "metadata": {
        "id": "cca586f0"
      },
      "source": [
        "##### Modifying series"
      ]
    },
    {
      "cell_type": "code",
      "execution_count": null,
      "id": "20d297e1",
      "metadata": {
        "id": "20d297e1",
        "outputId": "55d7b3ad-2181-4019-9723-1912e9b8c062"
      },
      "outputs": [
        {
          "data": {
            "text/plain": [
              "Canada             40.500\n",
              "France             63.951\n",
              "Germany            80.940\n",
              "Italy              60.665\n",
              "Japan             127.061\n",
              "United Kingdom     64.511\n",
              "United States     318.523\n",
              "dtype: float64"
            ]
          },
          "execution_count": 24,
          "metadata": {},
          "output_type": "execute_result"
        }
      ],
      "source": [
        "population['Canada'] = 40.5\n",
        "population"
      ]
    },
    {
      "cell_type": "code",
      "execution_count": null,
      "id": "5a7f6f18",
      "metadata": {
        "id": "5a7f6f18"
      },
      "outputs": [],
      "source": [
        "population.iloc[-1] = 500"
      ]
    },
    {
      "cell_type": "code",
      "execution_count": null,
      "id": "dff1d23b",
      "metadata": {
        "id": "dff1d23b",
        "outputId": "2083506c-95ad-458b-c703-c671e71646f8"
      },
      "outputs": [
        {
          "data": {
            "text/plain": [
              "Canada             40.500\n",
              "France             63.951\n",
              "Germany            80.940\n",
              "Italy              60.665\n",
              "Japan             127.061\n",
              "United Kingdom     64.511\n",
              "United States     500.000\n",
              "dtype: float64"
            ]
          },
          "execution_count": 26,
          "metadata": {},
          "output_type": "execute_result"
        }
      ],
      "source": [
        "population"
      ]
    },
    {
      "cell_type": "code",
      "execution_count": null,
      "id": "e6ee8071",
      "metadata": {
        "id": "e6ee8071"
      },
      "outputs": [],
      "source": []
    }
  ],
  "metadata": {
    "colab": {
      "provenance": []
    },
    "kernelspec": {
      "display_name": "Python 3 (ipykernel)",
      "language": "python",
      "name": "python3"
    },
    "language_info": {
      "codemirror_mode": {
        "name": "ipython",
        "version": 3
      },
      "file_extension": ".py",
      "mimetype": "text/x-python",
      "name": "python",
      "nbconvert_exporter": "python",
      "pygments_lexer": "ipython3",
      "version": "3.10.9"
    }
  },
  "nbformat": 4,
  "nbformat_minor": 5
}